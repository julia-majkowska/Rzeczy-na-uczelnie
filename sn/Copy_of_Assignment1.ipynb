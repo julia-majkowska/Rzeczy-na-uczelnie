{
 "cells": [
  {
   "cell_type": "markdown",
   "metadata": {
    "colab_type": "text",
    "id": "P7IFJ5_Y33-8"
   },
   "source": [
    "# Assignment 1\n"
   ]
  },
  {
   "cell_type": "markdown",
   "metadata": {
    "colab_type": "text",
    "id": "goqGXGZT2DKK"
   },
   "source": [
    "## Important notes"
   ]
  },
  {
   "cell_type": "markdown",
   "metadata": {
    "colab_type": "text",
    "id": "-3FKET1A2GRK"
   },
   "source": [
    "**Submission deadline:**\n",
    "* **Problems 1-4: last lab session before or on Friday, 19.10.18**\n",
    "* **Problems 5-6: last lab session before or on Friday, 26.10.18**\n",
    "\n",
    "**Points: 10 + 4 bonus points**\n",
    "\n",
    "Please note: some of the assignments are tedious or boring if you are already a NumPy ninja. The bonus problems were designed to give you a more satisfying alternative.\n",
    "\n",
    "The assignment is in the form of a Jupyter notebook. We will be using [Google Colab](https://colab.research.google.com) to solve it. Below you will find a \"Setup\" section. Follow instructions from this paragraph to download the notebook and open it using [Google Colab](https://colab.research.google.com). \n",
    "\n",
    "Your goal is to solve problems posted below. Whenever possible, add your solutions to the notebook.\n",
    "\n",
    "Please email us about any problems with it - we will try to correct them quickly. Also, please do not hesitate to use GitHub’s pull requests to send us corrections!"
   ]
  },
  {
   "cell_type": "markdown",
   "metadata": {
    "colab_type": "text",
    "id": "1CMDOrsc2K-K"
   },
   "source": [
    "## Setup"
   ]
  },
  {
   "cell_type": "markdown",
   "metadata": {
    "colab_type": "text",
    "id": "tNjavUUC7yuM"
   },
   "source": [
    "### 1. Open the notebook using Google Colab\n",
    "\n",
    "1. From Github: Click on \"View in Colaboratory\", then save to your Google Drive.\n",
    "2. Alternatively upload manually to Drive:\n",
    "  1. Download the notebook or clone https://github.com/janchorowski/nn_assignments.\n",
    "  2. Go to  [Google Colab](https://colab.research.google.com).\n",
    "  3. Go to \"UPLOAD\" tab and select a local copy of the notebook that you downloaded in point 1.\n",
    "  \n",
    "Colab Tips:\n",
    "1. Set tab width to 4 spaces under `Tools -> Prferences`.\n",
    "  \n",
    "### 2. Open th enotebook offline using Jupyter/IPython\n",
    "\n",
    "This notebook can be opened using Jupyter notebook. Simply install a scientific Python distribution on your computer (e.g. [Anaconda](https://www.anaconda.com/) or [WinPython](http://winpython.github.io/)), clone the repository https://github.com/janchorowski/nn_assignments and run `jupyter notebook`."
   ]
  },
  {
   "cell_type": "markdown",
   "metadata": {
    "colab_type": "text",
    "id": "zq_ZRu87C_OC"
   },
   "source": [
    "###   3. Install required dependencies, download data and import packages\n",
    "\n",
    "Run cells below. To run a cell either click it and click a run button or press \"shift + enter\"\n"
   ]
  },
  {
   "cell_type": "code",
   "execution_count": 1,
   "metadata": {
    "colab": {
     "base_uri": "https://localhost:8080/",
     "height": 164
    },
    "colab_type": "code",
    "id": "onui8xrw5dKi",
    "outputId": "69d16e3c-7713-4cf5-bf45-2a565cf1c5a5",
    "scrolled": true
   },
   "outputs": [
    {
     "name": "stdout",
     "output_type": "stream",
     "text": [
      "/usr/local/lib/python2.7/dist-packages/pip/_vendor/requests/__init__.py:83: RequestsDependencyWarning: Old version of cryptography ([1, 2, 3]) may cause slowdown.\r\n",
      "  warnings.warn(warning, RequestsDependencyWarning)\r\n"
     ]
    }
   ],
   "source": [
    "# Please note that this code needs only to be run in a fresh runtime.\n",
    "# However, it can be rerun afterwards too.\n",
    "!pip install -q gdown httpimport\n",
    "![ -e cifar.npz ] || gdown 'https://drive.google.com/uc?id=1oBzZdtg2zNTPGhbRy6DQ_wrf5L5OAhNR' -O cifar.npz\n",
    "![ -e mnist.npz ] || gdown 'https://drive.google.com/uc?id=1QPaC3IKB_5tX6yIZgRgkpcqFrfVqPTXU' -O mnist.npz"
   ]
  },
  {
   "cell_type": "code",
   "execution_count": 2,
   "metadata": {
    "scrolled": true
   },
   "outputs": [
    {
     "name": "stdout",
     "output_type": "stream",
     "text": [
      "/usr/bin/python3 \n",
      ", \n",
      " ['', '/usr/lib/python35.zip', '/usr/lib/python3.5', '/usr/lib/python3.5/plat-x86_64-linux-gnu', '/usr/lib/python3.5/lib-dynload', '/home/julia/.local/lib/python3.5/site-packages', '/usr/local/lib/python3.5/dist-packages', '/usr/lib/python3/dist-packages', '/home/julia/.local/lib/python3.5/site-packages/IPython/extensions', '/home/julia/.ipython']\n"
     ]
    }
   ],
   "source": [
    "import sys\n",
    "print (sys.executable,\"\\n, \\n\", sys.path)"
   ]
  },
  {
   "cell_type": "code",
   "execution_count": 3,
   "metadata": {
    "colab": {},
    "colab_type": "code",
    "id": "YxzWq6iO2KPm",
    "scrolled": false
   },
   "outputs": [],
   "source": [
    "# Standard IPython notebook imports\n",
    "%matplotlib inline\n",
    "\n",
    "from __future__ import absolute_import\n",
    "from __future__ import division\n",
    "from __future__ import print_function\n",
    "\n",
    "import os\n",
    "\n",
    "import httpimport\n",
    "import matplotlib.pyplot as plt\n",
    "import numpy as np\n",
    "\n",
    "import seaborn as sns\n",
    "from sklearn import datasets\n",
    "\n",
    "# In this way we can import functions straight from github\n",
    "with httpimport.github_repo('janchorowski', 'nn_assignments', \n",
    "                            module='common', branch='nn18'):\n",
    "     from common.plotting import plot_mat\n",
    "\n",
    "sns.set_style('whitegrid')"
   ]
  },
  {
   "cell_type": "markdown",
   "metadata": {
    "colab_type": "text",
    "id": "AfmjDoxi6JNA"
   },
   "source": [
    "### 4. Follow the notebook and solve problems posted below"
   ]
  },
  {
   "cell_type": "markdown",
   "metadata": {
    "colab_type": "text",
    "id": "3hr81V8T8ccB"
   },
   "source": [
    "## Problems"
   ]
  },
  {
   "cell_type": "markdown",
   "metadata": {
    "colab_type": "text",
    "id": "0eT1x_VG33_E"
   },
   "source": [
    "### Problem 0 [0p]\n",
    "\n",
    " \n",
    "1. To learn more about Jupyter,  read [Jupyter tutorial from Data Analysis in Biological Sciences course at Caltech](http://bebi103.caltech.edu/2015/tutorials/t0b_intro_to_jupyter_notebooks.html) (which itself can be downloaded as a Jupyter notebook). Feel free to skip the tutorial if you have some prior experience with Jupyter notebook.\n",
    "2. To learn more about basic Google Colab features, go to [Google Colab](https://colab.research.google.com) and select \"Overview of Colaboratory Features\" in \"EXAMPLES\" tab. To learn more about / set up useful keyboard shortcuts (e.g. to add a new cell without clicking \"\"+ code\"), go to \"Tools --> Keyboard shortcuts\""
   ]
  },
  {
   "cell_type": "markdown",
   "metadata": {
    "colab_type": "text",
    "id": "AsOC0voR33_F"
   },
   "source": [
    "### Problem 1 [2p]\n",
    "\n",
    "First, get familiar with Python at https://docs.python.org/2/tutorial/. Then, get\n",
    "to know the capabilities of NumPy, the prime numerical library of Python http://www.numpy.org/, for instance with the tutorial at http://wiki.scipy.org/Tentative_NumPy_Tutorial.\n",
    "\n",
    "You might also need:\n",
    "  1. another intro to NumPy,\n",
    "http://people.duke.edu/~ccc14/pcfb/numerics.html\n",
    "  2. a better interactive shell for Python,\n",
    "http://ipython.org/\n",
    "  3. access to IPython through an ordinary web browser,\n",
    "http://ipython.org/notebook.html\n",
    "  4. a plotting library for Python.\n",
    "http://matplotlib.org/\n",
    "\n",
    "**a) Declare variables:**\n",
    "1. $a=10$,\n",
    "2. $b=2.5\\times 10^{23}$,\n",
    "3. $c=2+3i$, where $i$ is an imaginary unit,\n",
    "4. $d=e^{i2\\pi/3}$, where $i$ is an imaginary unit, $e$ is the Euler's number (use `exp`, `pi`)."
   ]
  },
  {
   "cell_type": "code",
   "execution_count": null,
   "metadata": {
    "colab": {
     "base_uri": "https://localhost:8080/",
     "height": 35
    },
    "colab_type": "code",
    "id": "8sd7jJhd33_G",
    "outputId": "a8873148-2728-4c37-91af-fefa02c7eaa3"
   },
   "outputs": [],
   "source": [
    "# TODO: Complete the declarations\n",
    "import cmath\n",
    "a = 10\n",
    "b = 2.5*10**23\n",
    "c = complex(2, 3) \n",
    "d = cmath.exp( complex(0, (2*cmath.pi)/3) )\n",
    "(a, b, c, d)"
   ]
  },
  {
   "cell_type": "markdown",
   "metadata": {
    "colab_type": "text",
    "id": "bP0hAHvN33_K"
   },
   "source": [
    "**b) Declare vectors:**\n",
    "1. $aVec=\\begin{bmatrix} 3.14 & 15 & 9 & 26 \\end{bmatrix}$,\n",
    "2. $bVec=\\begin{bmatrix} 2.71 & 8 & 28 & 182 \\end{bmatrix}^\\intercal$ (column vector),\n",
    "3. $cVec=\\begin{bmatrix} 5 & 4.8 & \\cdots & -4.8 & -5 \\end{bmatrix}$ (vector of numbers from $5$ to $-5$ decreasing by $0.2$),\n",
    "4. $dVec=\\begin{bmatrix} 10^0 & 10^{0.01} & \\cdots & 10^{0.99} & 10^1 \\end{bmatrix}$ (logarithmically spaced numbers from 1 to 10, use `logspace` and make sure, that the result has correct length!),\n",
    "5. $eVec=Hello$ ($eVec$ is a string of characters, thus a vector)."
   ]
  },
  {
   "cell_type": "code",
   "execution_count": null,
   "metadata": {
    "colab": {
     "base_uri": "https://localhost:8080/",
     "height": 679
    },
    "colab_type": "code",
    "id": "37RmkuW533_L",
    "outputId": "1c6b1ef1-28e4-4ec9-8dec-a6f7d2bab6e2"
   },
   "outputs": [],
   "source": [
    "import numpy as np\n",
    "aVec = np.array([3.14, 15, 9, 26])\n",
    "bVec = np.array([[2.71, 8, 28, 182]]).T\n",
    "cVec = np.array(np.arange(5, -5, -0.2))\n",
    "dVec = np.logspace(0, 1, num = 101, base = 10 )\n",
    "eVec = \"Hello\"\n",
    "(aVec, bVec, cVec, dVec, eVec)"
   ]
  },
  {
   "cell_type": "markdown",
   "metadata": {
    "colab_type": "text",
    "id": "C58YJtEU33_O"
   },
   "source": [
    "**c) Declare matrices:**\n",
    "1. $aMat=\\begin{bmatrix}\n",
    "                    2      & \\cdots & 2 \\\\\n",
    "                    \\vdots & \\ddots & \\vdots \\\\\n",
    "                    2      & \\cdots & 2\n",
    "                \\end{bmatrix}$,\n",
    "<br/>\n",
    "matrix $9\\times 9$ filled with 2s (use `ones` or `zeros`),\n",
    "2. $bMat=\\begin{bmatrix}\n",
    "                    1      & 0      & \\cdots &        & 0      \\\\\n",
    "                    0      & \\ddots & 0      &        & 0      \\\\\n",
    "                    \\vdots & 0      & 5      & 0      & \\vdots \\\\\n",
    "                           &        & 0      & \\ddots & 0      \\\\\n",
    "                    0      &        & \\cdots & 0      & 1\n",
    "                \\end{bmatrix}$,\n",
    "<br/>\n",
    "matrix $9\\times 9$ filled with zeros, with $\\begin{bmatrix} 1 & 2 & 3 & 4 & 5 & 4 & 3 & 2 & 1 \\end{bmatrix}$ on its diagonal (use `zeros`, `diag`),\n",
    "3. $cMat=\\begin{bmatrix}\n",
    "                    1      & 11     & \\cdots & 91     \\\\\n",
    "                    2      & 12     & \\ddots & 92     \\\\\n",
    "                    \\vdots & \\vdots & \\ddots & \\vdots \\\\\n",
    "                    10     & 20     & \\cdots & 100\n",
    "                \\end{bmatrix}$,\n",
    "<br/>\n",
    "matrix $10\\times 10$, columns of which form the vector $1:100$ (use `reshape`),\n",
    "4. $dMat=\\begin{bmatrix}\n",
    "                    NaN & NaN & NaN & NaN \\\\\n",
    "                    NaN & NaN & NaN & NaN \\\\\n",
    "                    NaN & NaN & NaN & NaN\n",
    "                \\end{bmatrix}$,\n",
    "<br/>\n",
    "matrix $3\\times 4$ filled with `NaN`s (use... `NaN`),\n",
    "5. $eMat=\\begin{bmatrix}\n",
    "                    13  & -1  & 5  \\\\\n",
    "                    -22 & 10  & -87\n",
    "                \\end{bmatrix}$,\n",
    "<br/>\n",
    "6. $fMat$ filled with random natural numbers from $[-3,3]$ (use `rand` and `floor` or `ceil`)."
   ]
  },
  {
   "cell_type": "code",
   "execution_count": null,
   "metadata": {
    "colab": {
     "base_uri": "https://localhost:8080/",
     "height": 569
    },
    "colab_type": "code",
    "id": "Bdd1oUeI33_P",
    "outputId": "37010b85-dda3-43b2-9338-cc4a04286d47"
   },
   "outputs": [],
   "source": [
    "aMat = np.ones((9, 9,), dtype='int')*2\n",
    "bMat = np.diag([1,2,3,4,5,4,3, 2, 1])\n",
    "cMat = np.arange(1, 101).reshape((10, 10)).T\n",
    "dMat = np.empty([3, 4])*np.nan\n",
    "eMat = np.array([[13, -1, 5], \n",
    "                 [-22, 10, -87]]\n",
    "               )\n",
    "fMat = np.floor(3*np.random.rand(2, 3))\n",
    "(aMat, bMat, cMat, dMat, eMat, fMat)"
   ]
  },
  {
   "cell_type": "markdown",
   "metadata": {
    "colab_type": "text",
    "id": "DqtKQi1Q33_T"
   },
   "source": [
    "** d) Declare a multiplication table ** as a $10\\times 10$ matrix `mulMat`. Use matrix/vector multiplication."
   ]
  },
  {
   "cell_type": "code",
   "execution_count": null,
   "metadata": {
    "colab": {
     "base_uri": "https://localhost:8080/",
     "height": 201
    },
    "colab_type": "code",
    "id": "OWqHq-vK33_U",
    "outputId": "63239510-717f-4939-fec3-4ae843184820"
   },
   "outputs": [],
   "source": [
    "mulMat = np.matmul(np.arange(1, 11).reshape(10, 1), np.arange(1, 11).reshape(1, 10))\n",
    "mulMat"
   ]
  },
  {
   "cell_type": "markdown",
   "metadata": {
    "colab_type": "text",
    "id": "0xIm6lT133_Y"
   },
   "source": [
    "** e) Compute elemwise using values from b).**\n",
    "For instance, the first element of $xVec[0]$ should be equal to\n",
    "\n",
    "\\begin{equation}\n",
    "1/(\\sqrt{2\\pi2.5^2}) e^{-cVec[0]^2 / (2\\cdot\\pi 2.5^2)}.\n",
    "\\end{equation}\n",
    "\n",
    "1. $xVec=1/(\\sqrt{2\\pi2.5^2}) e^{-cVec^2 / (2\\cdot\\pi 2.5^2)}$\n",
    "2. $yVec=\\sqrt{(aVec^\\intercal)^2 + bVec^2}$\n",
    "3. $zVec=\\log_{10}(1/dVec)$, using `log10`"
   ]
  },
  {
   "cell_type": "code",
   "execution_count": null,
   "metadata": {
    "colab": {
     "base_uri": "https://localhost:8080/",
     "height": 642
    },
    "colab_type": "code",
    "id": "LtH-kSU733_Z",
    "outputId": "35fc939b-14b0-41f4-d463-8c679bcd6e5f"
   },
   "outputs": [],
   "source": [
    "xFun = np.vectorize(lambda x : 1/(2.5 * (2 * cmath.pi)**0.5)* cmath.exp((-x**2)/(2 * cmath.pi* 2.5**2)))\n",
    "xVec = xFun ( cVec)\n",
    "yFun = np.vectorize(lambda x, y : (x**2 + y**2)**0.5)\n",
    "yVec = yFun (aVec.T, bVec)\n",
    "zFun = np.vectorize(lambda x: -cmath.log10(x))\n",
    "zVec = zFun (dVec)\n",
    "xVec, yVec, zVec"
   ]
  },
  {
   "cell_type": "markdown",
   "metadata": {
    "colab_type": "text",
    "id": "EBhf74F_33_d"
   },
   "source": [
    "** f) Compute with matrix/vector operations using values from c).**\n",
    "\n",
    "**NOTE:** Every multiplication (and power) in this subtask is a [matrix multiplication](https://en.wikipedia.org/wiki/Matrix_multiplication).\n",
    "1. $xMat=(aVec\\cdot bVec)aMat^2$,\n",
    "2. $yMat=bVec\\cdot aVec$\n",
    "<br/>\n",
    "(remember, that matrix multiplication is not commutative),\n",
    "4. $zMat=\\lvert cMat\\rvert (aMat\\cdot bMat)^\\intercal$, where $\\lvert A\\rvert$ denotes determinant of $A$ (use `det`)."
   ]
  },
  {
   "cell_type": "code",
   "execution_count": null,
   "metadata": {
    "colab": {
     "base_uri": "https://localhost:8080/",
     "height": 587
    },
    "colab_type": "code",
    "id": "UjdLR34u33_e",
    "outputId": "1e6e094c-e584-4305-b57c-68ddca4243f5"
   },
   "outputs": [],
   "source": [
    "xMat = np.dot(aVec, bVec)*np.dot(aMat, aMat) \n",
    "yMat = bVec *  aVec\n",
    "zMat = np.linalg.det(cMat)* (np.matmul(aMat, bMat).T)\n",
    "xMat, yMat, zMat\n"
   ]
  },
  {
   "cell_type": "markdown",
   "metadata": {
    "colab_type": "text",
    "id": "QJ3xTXgV33_i"
   },
   "source": [
    "** g) Declare `ismagic(A)` function ** which checks if matrix $A$ is a [magic square](https://en.wikipedia.org/wiki/Magic_square) and returns a boolean."
   ]
  },
  {
   "cell_type": "code",
   "execution_count": null,
   "metadata": {
    "colab": {
     "base_uri": "https://localhost:8080/",
     "height": 35
    },
    "colab_type": "code",
    "id": "uCNJUx_G33_j",
    "outputId": "990960fe-7dc0-4572-b11d-19253faa7f0b"
   },
   "outputs": [],
   "source": [
    "def ismagic(A):\n",
    "    sumArr = A.sum(axis = 0)\n",
    "    return np.equal(sumArr / sumArr[0], np.ones_like(sumArr)).all() and np.equal(sumArr, A.sum(axis = 1)).all() and sumArr[0] == A.trace() and sumArr[0] == np.fliplr(A).trace()\n",
    "    \n",
    "test = np.array([[2, 7, 6], [9, 5, 1], [4, 3, 8]])\n",
    "ismagic(test)"
   ]
  },
  {
   "cell_type": "markdown",
   "metadata": {
    "colab_type": "text",
    "id": "Es80_WJM33_n"
   },
   "source": [
    "### k-Nearest Neighbors\n",
    "\n",
    "The following excerpt of code loads the data describing iris flowers\n",
    "and shows relations between their length and petal width for three\n",
    "species (namely: setosa, versicolor, virginica)."
   ]
  },
  {
   "cell_type": "code",
   "execution_count": null,
   "metadata": {
    "colab": {
     "base_uri": "https://localhost:8080/",
     "height": 316
    },
    "colab_type": "code",
    "id": "hOvm2SEE33_q",
    "outputId": "ea4b7602-1f64-45c9-81c0-861bfc21d60f"
   },
   "outputs": [],
   "source": [
    "# sklearn is a large collection of machine learning algorithms\n",
    "# here we’ll use it only for the built-in iris dataset\n",
    "from sklearn import datasets\n",
    "\n",
    "iris = datasets.load_iris()\n",
    "\n",
    "print('Features: ', iris.feature_names)\n",
    "print('Targets: ', iris.target_names)\n",
    "\n",
    "petal_length = iris.data[:, iris.feature_names.index('petal length (cm)')]\n",
    "petal_width = iris.data[:, iris.feature_names.index('petal width (cm)')]\n",
    "\n",
    "for target in set(iris.target):\n",
    "    example_ids = target == iris.target\n",
    "    plt.scatter(petal_length[example_ids], petal_width[example_ids],\n",
    "                label=iris.target_names[target], color='bgr'[target],\n",
    "                marker='x', alpha=0.7)\n",
    "unknown = np.array([\n",
    "    [1.5, 0.3],\n",
    "    [4.5, 1.2],\n",
    "    [5.5, 2.3],\n",
    "    [5.1, 1.7]\n",
    "])\n",
    "plt.scatter(unknown[:, 0], unknown[:, 1], marker='v',\n",
    "            color='gray', s=50, label='??')\n",
    "plt.xlabel('petal length (cm)')\n",
    "plt.ylabel('petal width (cm)')\n",
    "plt.grid(True)\n",
    "plt.legend(loc='upper left');"
   ]
  },
  {
   "cell_type": "markdown",
   "metadata": {
    "colab_type": "text",
    "id": "s2khewKZ33_w"
   },
   "source": [
    "Based on these two features, it is easy to distinguish iris setosa from the two remaining species. Yet iris versicolor and virginica remain mixed together. \n",
    "\n",
    "Looking closely at the plot, we might estimate the species of the selected unknown irises (gray triangles). For three of them the answer seems obvious – they belong in uniformly-colored areas covered by one species only. Yet unknown iris flower in (5.1, 1.7) is troublesome – it lays on the boundary of versicolor and virginica clusters. We can assume, that its species is the one of the closest one to it, coming from the training set (and so having a label). \n",
    "\n",
    "K-Nearest Neighbors method (http://en.wikipedia.org/wiki/K-nearest_neighbors_algorithm) solves the classification problem, i.e. sets class labels (species in case of irises) of a previously unseen sample by choosing the most common class among the top k neighbors of the sample in question (for instance according to the Euclidean distance). Thus, the k-Nearest Neighbors algorithm works as follows. For each unlabeled sample x:\n",
    "1. Find k nearest neighbors among the labeled samples.\n",
    "2. Set the most common label among them as label of x."
   ]
  },
  {
   "cell_type": "markdown",
   "metadata": {
    "colab_type": "text",
    "id": "8-G-sMUw33_x"
   },
   "source": [
    "#### Problem 2 [2p]\n",
    "\n",
    "1.  **[1p]** Load the iris data (in Python it’s built-in into machine learning libraries, use sklearn.datasets.load_iris), the data is also available on-line at https://archive.ics.uci.edu/ml/datasets/Iris\n",
    "\n",
    "2.  **[1p]** Irises are described with 4 attributes: petal and sepal widths and lengths. We often plot such data as matrices depicting relationships between pairs of attributes (the diagonal of which holds an ordinary histogram). Write code making a plot like the one below. Please pay attention to the details: make a proper legend and correctly label the axes.\n",
    "\n",
    "<img src=\"https://github.com/janchorowski/nn_assignments/blob/nn18/assignment1/iris4x4.png?raw=1\"/>"
   ]
  },
  {
   "cell_type": "code",
   "execution_count": null,
   "metadata": {
    "colab": {
     "base_uri": "https://localhost:8080/",
     "height": 1565
    },
    "colab_type": "code",
    "id": "nO4Me6uJE3Hr",
    "outputId": "4c9af772-cc51-4819-f7ef-bd6fe1c82699"
   },
   "outputs": [],
   "source": [
    "# sklearn is a large collection of machine learning algorithms\n",
    "# here we’ll use it only for the built-in iris dataset\n",
    "from sklearn import datasets\n",
    "import matplotlib.patches as mpatches\n",
    "import itertools\n",
    "\n",
    "def count_sort(arr): \n",
    "    my_min = np.amin(arr)\n",
    "    my_max = np.amax(arr)\n",
    "    interv  = (my_max - my_min)/9;\n",
    "    group_fun = lambda x : np.floor((x - my_min)/interv)\n",
    "    new_arr = sorted(arr)  \n",
    "    grouped = [(g[0]*interv + my_min, len(list(g[1]))) for g in itertools.groupby(new_arr, group_fun)]\n",
    "    #print(grouped)\n",
    "    groupedVals = [a for (a, b) in grouped]\n",
    "    groupedCounts = [b for (a, b) in grouped]\n",
    "    return groupedVals, groupedCounts\n",
    "\n",
    "iris = datasets.load_iris()\n",
    "\n",
    "print('Features: ', iris.feature_names)\n",
    "print('Targets: ', iris.target_names)\n",
    "\n",
    "my_figure = plt.figure(figsize=(20,20))\n",
    "\n",
    "\n",
    "petal_length = iris.data[:, iris.feature_names.index('petal length (cm)')]\n",
    "petal_width = iris.data[:, iris.feature_names.index('petal width (cm)')]\n",
    "sepal_length = iris.data[:, iris.feature_names.index('sepal length (cm)')]\n",
    "sepal_width = iris.data[:, iris.feature_names.index('sepal width (cm)')]\n",
    "\n",
    "plt.subplot(4,4,1)\n",
    "histo = count_sort(sepal_length)\n",
    "plt.bar(histo[0], histo[1], width = 0.4, edgecolor = \"k\")\n",
    "plt.grid(False)\n",
    "plt.xticks(np.arange(4.0, 8.5, 0.5))\n",
    "plt.yticks(np.arange(0, 35, 5))\n",
    "plt.ylabel('sepal length (cm)')\n",
    "my_lines = []\n",
    "plt.subplot(4,4,2)\n",
    "for target in set(iris.target):\n",
    "    example_ids = target == iris.target\n",
    "    sc =plt.scatter(sepal_width[example_ids], sepal_length[example_ids],\n",
    "                label=iris.target_names[target], color='bgr'[target],\n",
    "                alpha=1.)\n",
    "    \n",
    "    my_lines+= [sc]\n",
    "\n",
    "my_figure.legend(tuple(set(my_lines)), \n",
    "                 (\"setosa\", \"vericolor\",\"virginica\") , \n",
    "                 \"upper center\",\n",
    "                 frameon = True, \n",
    "                 edgecolor = \"k\",\n",
    "                 ncol = 3)\n",
    "plt.grid(False)\n",
    "plt.xticks(np.arange(1.5, 5.5, 0.5))\n",
    "plt.yticks(np.arange(4.0, 9.0, 0.5))\n",
    "plt.subplot(4,4,3)\n",
    "for target in set(iris.target):\n",
    "    example_ids = target == iris.target\n",
    "    plt.scatter(petal_length[example_ids], sepal_length[example_ids],\n",
    "                label=iris.target_names[target], color='bgr'[target],\n",
    "                alpha=1.)\n",
    "plt.grid(False)\n",
    "plt.xticks(np.arange(0, 8.5, 1.))\n",
    "plt.yticks(np.arange(4.0, 9.0, 0.5))\n",
    "\n",
    "plt.subplot(4,4,4)\n",
    "for target in set(iris.target):\n",
    "    example_ids = target == iris.target\n",
    "    plt.scatter(petal_width[example_ids], sepal_length[example_ids],\n",
    "                label=iris.target_names[target], color='bgr'[target],\n",
    "                alpha=1.)\n",
    "plt.grid(False)\n",
    "plt.xticks(np.arange(-0.5, 3.5, 0.5))\n",
    "plt.yticks(np.arange(4.0, 9.0, 0.5))\n",
    "    \n",
    "    \n",
    "plt.subplot(4,4,5)\n",
    "for target in set(iris.target):\n",
    "    example_ids = target == iris.target\n",
    "    plt.scatter(sepal_length[example_ids], sepal_width[example_ids],\n",
    "                label=iris.target_names[target], color='bgr'[target],\n",
    "                alpha=1.)\n",
    "plt.ylabel('sepal width (cm)')\n",
    "plt.grid(False)\n",
    "plt.xticks(np.arange(4.0, 9.0, 0.5))\n",
    "plt.yticks(np.arange(1.5, 5.5, 0.5))\n",
    "\n",
    "plt.subplot(4,4,6)\n",
    "histo = count_sort(sepal_width)\n",
    "plt.bar(histo[0], histo[1], width = 0.3, edgecolor = \"k\")\n",
    "plt.grid(False)\n",
    "plt.xticks(np.arange(2.0, 5.0, 0.5))\n",
    "plt.yticks(np.arange(0, 45, 5))\n",
    "    \n",
    "plt.subplot(4,4,7)\n",
    "for target in set(iris.target):\n",
    "    example_ids = target == iris.target\n",
    "    plt.scatter(petal_length[example_ids], sepal_width[example_ids],\n",
    "                label=iris.target_names[target], color='bgr'[target],\n",
    "                alpha=1.)\n",
    "plt.grid(False)\n",
    "plt.xticks(np.arange(0.,9, 1))\n",
    "plt.yticks(np.arange(1.5, 5.5, 0.5))\n",
    "\n",
    "plt.subplot(4,4,8)\n",
    "for target in set(iris.target):\n",
    "    example_ids = target == iris.target\n",
    "    plt.scatter(petal_width[example_ids], sepal_width[example_ids],\n",
    "                label=iris.target_names[target], color='bgr'[target],\n",
    "                alpha=1.)\n",
    "plt.grid(False)\n",
    "plt.xticks(np.arange(-0.5, 3.5, 0.5))\n",
    "plt.yticks(np.arange(1.5, 5.5, 0.5))\n",
    "\n",
    "\n",
    "plt.subplot(4,4,9)\n",
    "for target in set(iris.target):\n",
    "    example_ids = target == iris.target\n",
    "    plt.scatter(sepal_length[example_ids], petal_length[example_ids],\n",
    "                label=iris.target_names[target], color='bgr'[target],\n",
    "                alpha=1.)\n",
    "plt.ylabel('petal length (cm)')\n",
    "plt.grid(False)\n",
    "plt.xticks(np.arange(4.0, 9.0, 0.5))\n",
    "plt.yticks(np.arange(0, 9, 1))\n",
    "    \n",
    "plt.subplot(4,4,10)\n",
    "for target in set(iris.target):\n",
    "    example_ids = target == iris.target\n",
    "    plt.scatter(sepal_width[example_ids], petal_length[example_ids],\n",
    "                label=iris.target_names[target], color='bgr'[target],\n",
    "                alpha=1.)\n",
    "plt.grid(False)\n",
    "plt.xticks(np.arange(1.5, 5.5, 0.5))\n",
    "plt.yticks(np.arange(0.,9, 1))\n",
    "\n",
    "plt.subplot(4,4,11)\n",
    "histo = count_sort(petal_length)\n",
    "plt.bar(histo[0], histo[1],width = 0.7, edgecolor = \"k\")\n",
    "plt.grid(False)\n",
    "plt.xticks(np.arange(0, 8, 1))\n",
    "plt.yticks(np.arange(0, 45, 5))\n",
    "\n",
    "plt.subplot(4,4,12)\n",
    "for target in set(iris.target):\n",
    "    example_ids = target == iris.target\n",
    "    plt.scatter(petal_width[example_ids], petal_length[example_ids],\n",
    "                label=iris.target_names[target], color='bgr'[target],\n",
    "                alpha=1.)\n",
    "plt.grid(False)\n",
    "plt.xticks(np.arange(-0.5, 3.5, 0.5))\n",
    "plt.yticks(np.arange(0.,9, 1))\n",
    "\n",
    "plt.subplot(4,4,13)\n",
    "for target in set(iris.target):\n",
    "    example_ids = target == iris.target\n",
    "    plt.scatter(sepal_length[example_ids], petal_width[example_ids],\n",
    "                label=iris.target_names[target], color='bgr'[target],\n",
    "                alpha=1.)\n",
    "plt.ylabel('petal width (cm)')\n",
    "plt.xlabel('sepal length (cm)')\n",
    "plt.grid(False)\n",
    "plt.xticks(np.arange(4.0, 9.0, 0.5))\n",
    "plt.yticks(np.arange(-0.5, 3.5, 0.5))\n",
    "    \n",
    "plt.subplot(4,4,14)\n",
    "for target in set(iris.target):\n",
    "    example_ids = target == iris.target\n",
    "    plt.scatter(sepal_width[example_ids], petal_width[example_ids],\n",
    "                label=iris.target_names[target], color='bgr'[target],\n",
    "                alpha=1.)\n",
    "plt.grid(False)\n",
    "plt.xlabel('sepal width (cm)')\n",
    "plt.xticks(np.arange(1.5, 5.5, 0.5))\n",
    "plt.yticks(np.arange(-0.5, 3.5, 0.5))\n",
    "\n",
    "plt.subplot(4,4,15)\n",
    "for target in set(iris.target):\n",
    "    example_ids = target == iris.target\n",
    "    plt.scatter(petal_length[example_ids], petal_width[example_ids],\n",
    "                label=iris.target_names[target], color='bgr'[target],\n",
    "                alpha=1.)\n",
    "plt.grid(False)\n",
    "plt.xlabel('petal length (cm)')\n",
    "plt.xticks(np.arange(0, 9, 1))\n",
    "plt.yticks(np.arange(-0.5, 3.5, 0.5))\n",
    "\n",
    "\n",
    "plt.subplot(4,4,16)\n",
    "histo = count_sort(petal_width)\n",
    "plt.bar(histo[0], histo[1],width = 0.3,edgecolor = \"k\")\n",
    "plt.grid(False)\n",
    "plt.xlabel('petal width (cm)')\n",
    "plt.xticks(np.arange(0., 3., 0.5))\n",
    "plt.yticks(np.arange(0, 45, 5))\n"
   ]
  },
  {
   "cell_type": "markdown",
   "metadata": {
    "colab_type": "text",
    "id": "1iZtHs5A33_z"
   },
   "source": [
    "#### Problem 4 [2p]\n",
    "Consider the following experiment:\n",
    "1. We scramble the data and split it into two parts - training set (66.6% of all samples) and test set (33.4%).\n",
    "2. Based on the training set, we use the k-NN algorithm to predict the labels on the test set.\n",
    "3. We then check the number of errors and write it down.\n",
    "\n",
    "Do this 500 times for k ∈ {1, 3, 5, ..., 19}. Plot a function of the average number of errors\n",
    "as the function of k. It should be similar to the one below.\n",
    "\n",
    "<img src=\"https://github.com/janchorowski/nn_assignments/blob/nn18/assignment1/knn.png?raw=1\"/>"
   ]
  },
  {
   "cell_type": "code",
   "execution_count": null,
   "metadata": {
    "colab": {},
    "colab_type": "code",
    "id": "EBrQJaLxx6RD"
   },
   "outputs": [],
   "source": [
    "import scipy\n",
    "def my_norm (e1, e2) : \n",
    "  return np.linalg.norm(e1 - e2)\n",
    "def KNN(dataset, k, norm, elem): \n",
    "  norms = []\n",
    "  for (d, label) in dataset : \n",
    "     norms = norms + [(norm(d, elem), label)]\n",
    "\n",
    "  sort_norms = sorted(norms)\n",
    "  #print(sort_norms)\n",
    "  kn = [sort_norms[i][1] for i in range(k) ]\n",
    "  return scipy.stats.mode(kn).mode[0]"
   ]
  },
  {
   "cell_type": "code",
   "execution_count": 4,
   "metadata": {
    "colab": {},
    "colab_type": "code",
    "id": "vPxhmH387yN9"
   },
   "outputs": [],
   "source": [
    "import scipy\n",
    "\n",
    "def experiment1(k, inp) :\n",
    "  scrambled = inp\n",
    "  #print(inp)\n",
    "  np.random.shuffle(scrambled)\n",
    "  pivot = int(np.floor(len(scrambled)*0.666))\n",
    "  \n",
    "  training_data = np.array([a[0] for a in scrambled[: pivot]])\n",
    "  training_label = np.array([a[1] for a in scrambled[: pivot]])\n",
    "  test_data = np.array([a[0] for a in scrambled[pivot:]])\n",
    "  test_label = np.array([a[1] for a in scrambled[pivot:]])\n",
    "  err_sum = 0\n",
    "    \n",
    "  x_square = np.array([np.dot(t, t) for t in test_data])\n",
    "  y_square = np.array([np.dot(t, t) for t in training_data])\n",
    "  #print(test_data.shape, x_square.shape)\n",
    "  #print(training_data.shape, y_square.shape)\n",
    "  norms = x_square + np.array([y_square]).T - 2*np.matmul(training_data, test_data.T)\n",
    "  sorted_labels = [training_label[a] for a in np.argsort(norms, axis = 0)][:k]\n",
    "\n",
    "  res = scipy.stats.mode(sorted_labels, axis = 0).mode[0]\n",
    "  #print(\"New input\\n\", np.array(res).shape, test_label.shape, \"\\n errors\")\n",
    "  num_errors = 0\n",
    "  for i in range(len (res)): \n",
    "     if(res[i]!=test_label[i]): \n",
    "       # print(res[i], test_label[i])\n",
    "        num_errors +=1\n",
    "  return num_errors/len(res)\n"
   ]
  },
  {
   "cell_type": "code",
   "execution_count": 5,
   "metadata": {
    "colab": {
     "base_uri": "https://localhost:8080/",
     "height": 109
    },
    "colab_type": "code",
    "id": "tXuTjokMbfCy",
    "outputId": "bd9953c4-fd95-407f-e4f1-64fcea6f1b8e"
   },
   "outputs": [
    {
     "name": "stdout",
     "output_type": "stream",
     "text": [
      "[5, 25, 61] [61, 113] [[17 23]\n",
      " [39 53]\n",
      " [61 83]] [[ 78 136]\n",
      " [100 166]\n",
      " [122 196]]\n"
     ]
    }
   ],
   "source": [
    "a = 1\n",
    "b = 2\n",
    "c = 3\n",
    "d = 4\n",
    "i = 5\n",
    "j = 6\n",
    "mat1 = np.array([[a, b],[c, d], [i, j]])\n",
    "r1 = [np.dot(t, t) for t in mat1]\n",
    "\n",
    "e = 5\n",
    "f = 6 \n",
    "g = 7\n",
    "h = 8\n",
    "mat2 = np.array([[e, f], [g, h]])\n",
    "r2 = [np.dot(t, t) for t in mat2]\n",
    "\n",
    "comb = np.matmul(mat1,  mat2.T)\n",
    "\n",
    "print(r1, r2, comb, r2 + comb)\n"
   ]
  },
  {
   "cell_type": "code",
   "execution_count": 14,
   "metadata": {
    "colab": {
     "base_uri": "https://localhost:8080/",
     "height": 201
    },
    "colab_type": "code",
    "id": "g1mvE60GC3RN",
    "outputId": "c3bce465-866e-4f9b-cb9c-923f8bd56fbb"
   },
   "outputs": [
    {
     "name": "stderr",
     "output_type": "stream",
     "text": [
      "/usr/local/lib/python3.5/dist-packages/scipy/stats/stats.py:245: RuntimeWarning: The input array could not be properly checked for nan values. nan values will be ignored.\n",
      "  \"values. nan values will be ignored.\", RuntimeWarning)\n"
     ]
    },
    {
     "name": "stdout",
     "output_type": "stream",
     "text": [
      "0.045058823529411623\n",
      "0.038470588235294\n",
      "0.03929411764705871\n",
      "0.03615686274509793\n",
      "0.03611764705882342\n",
      "0.03545098039215676\n",
      "0.03741176470588225\n",
      "0.04117647058823517\n",
      "0.04490196078431359\n",
      "0.047529411764705744\n",
      "[0.045058823529411623, 0.038470588235294, 0.03929411764705871, 0.03615686274509793, 0.03611764705882342, 0.03545098039215676, 0.03741176470588225, 0.04117647058823517, 0.04490196078431359, 0.047529411764705744]\n"
     ]
    }
   ],
   "source": [
    "# sklearn is a large collection of machine learning algorithms\n",
    "# here we’ll use it only for the built-in iris dataset\n",
    "from sklearn import datasets\n",
    "\n",
    "import copy\n",
    "\n",
    "iris = datasets.load_iris()\n",
    "\n",
    "def experiment(k, inp) :\n",
    "  scrambled = inp\n",
    "  np.random.shuffle(scrambled)\n",
    "  \n",
    "  training = scrambled[: int(np.floor(len(scrambled)*0.666))]\n",
    "  test = scrambled[int(np.floor(len(scrambled)*0.666)):]\n",
    "  err_sum = 0;\n",
    "  for (data, label) in test : \n",
    "    res = KNN(training, k, my_norm,data )\n",
    "    if res != label : \n",
    "      #print (res, label)\n",
    "      err_sum+=1\n",
    "  return err_sum/len(test)\n",
    "\n",
    "inp = [[iris.data[i], iris.target_names[iris.target[i]]] for i in range(len (iris.data))]\n",
    "iris_results = []\n",
    "for k in range(1, 20, 2): \n",
    "    sum_err = 0\n",
    "    #print(experiment(k, inp))\n",
    "    for j in range(500) : \n",
    "       sum_err += experiment1(k,inp)\n",
    "    print(sum_err/500)\n",
    "    iris_results = iris_results + [sum_err/500]\n",
    "print(iris_results)"
   ]
  },
  {
   "cell_type": "code",
   "execution_count": 15,
   "metadata": {
    "colab": {
     "base_uri": "https://localhost:8080/",
     "height": 298
    },
    "colab_type": "code",
    "id": "_Ayxy10qyd_U",
    "outputId": "036fee53-c1b4-4321-8aee-d2d903cb1742"
   },
   "outputs": [
    {
     "name": "stdout",
     "output_type": "stream",
     "text": [
      "[4.50588235 3.84705882 3.92941176 3.61568627 3.61176471 3.54509804\n",
      " 3.74117647 4.11764706 4.49019608 4.75294118]\n"
     ]
    },
    {
     "data": {
      "text/plain": [
       "Text(0, 0.5, 'Average classification error [%]')"
      ]
     },
     "execution_count": 15,
     "metadata": {},
     "output_type": "execute_result"
    },
    {
     "data": {
      "image/png": "[encoded data removed]",
      "text/plain": [
       "<Figure size 432x288 with 1 Axes>"
      ]
     },
     "metadata": {},
     "output_type": "display_data"
    }
   ],
   "source": [
    "newResults= 100 * np.array(iris_results)\n",
    "print(newResults)\n",
    "xValues = range(1, 20, 2)\n",
    "plt.plot(xValues, newResults)\n",
    "plt.title(\"Iris classification using KNN\")\n",
    "plt.ylabel('Average classification error [%]')"
   ]
  },
  {
   "cell_type": "markdown",
   "metadata": {
    "colab_type": "text",
    "id": "F6sG0bxf33_y"
   },
   "source": [
    "#### Problem 3 [2p]\n",
    "\n",
    "Implement the k-Nearest Neighbors algorithm. Try to\n",
    "take advantage of matrix calculus rather than using for loops.\n",
    "\n",
    "**Tip:** What is computed by \\begin{equation} \\sqrt{(X - Y)^T (X - Y)} \\end{equation} when both X and Y are vectors?\n",
    "\n",
    "**Tip:** Try to use broadcasting (NumPy: http://docs.scipy.org/doc/numpy/user/basics.broadcasting.html) and built-ins sort, numpy.sort, numpy.argsort (sorting), scipy.stats.mode (choosing the most common element of the set)."
   ]
  },
  {
   "cell_type": "markdown",
   "metadata": {
    "colab_type": "text",
    "id": "A86GnZpa33_0"
   },
   "source": [
    "#### Problem 5 [2p] \n",
    "\n",
    "Apply the K-Nearest Neighbors (K-NN) algorithm to the MNIST and CIFAR10 datasets. \n",
    "\n",
    "The MNIST (http://yann.lecun.com/exdb/mnist/) dataset consists of normalized (centered and stretched) scans of hand-written digits. Specifically, each element of the dataset is a 28 × 28 grayscale image, thus having 764 8-bit pixels. \n",
    "\n",
    "The CIFAR10 (http://www.cs.toronto.edu/~kriz/cifar.html) dataset consists of small, 32 by 32 pixels, RGB images belonging to 10 categories.\n",
    "\n",
    "1. **[1p]** Download and load the MNIST and CIFAR10 datasets. For both datasets, display a few objects from each of the classes, paying attention to aesthetics and clarity of your presentation. **Note:** You already downloaded the datasets in \"Setup\" section. Please use the code below to get started.\n",
    "\n",
    "2. **[2p]** Apply a k-NN classifier to the MNIST and CIFAR10 datasets. First, divide the training set into two parts, which we will call training and validation. On MNIST use the first 50000 samples for training and the last 10000 for validation. On CIFAR10, use 40000 to train and 10000 for validation. Then find the optimal number of neighbors by assessing the accuracy on the validation set. You do not need to repeat this experiment multiple times. Finally, compute the accuracy on the test set obtained with the best previously chosen number of neighbors. On MNIST you should get about 3% errors, while on CIFAR10 you should get about 70% errors. Why CIFAR10 is harder than MNIST? Pick a few mislabeled samples from the test dataset and plot them along with the correct ones. **Note:**\n",
    "  * MNIST and CIFAR10 are much larger than the Iris dataset. A good implementation may need a few minutes depending on your runtime type. Please optimize your algorithm:\n",
    "  * Compute the distances only once, then test for different values of k.\n",
    "  * Use vectorized expressions to compute the distance. It is possible to compute all distances between the training and testing points in one expression. Hint: think about the vectorized expression \\begin{equation}(X - Y)^T (X - Y)\\end{equation}.\n",
    "  * You can use single precision numbers in computation.\n",
    "  * If your code is taking a long time to execute, please save its results before the lab session.\n",
    "\n",
    "**Note:** in NumPy, matrices have its own data type (dtype), which is retained during\n",
    "calculations. Please pay attention to it. I particular, do not subtract values of data types not\n",
    "having the sign bit, do not divide integers, etc. Results of such operations will not be\n",
    "automatically casted to types having the required precision."
   ]
  },
  {
   "cell_type": "code",
   "execution_count": 80,
   "metadata": {
    "colab": {},
    "colab_type": "code",
    "id": "3AvAeiDN33_1"
   },
   "outputs": [],
   "source": [
    "with np.load('mnist.npz') as data:\n",
    "    mnist_full_train_data_uint8 = data['train_data']\n",
    "    mnist_full_train_labels_int64 = data['train_labels']\n",
    "    mnist_test_data_uint8 = data['test_data']\n",
    "    mnist_test_labels_int64 = data['test_labels']\n",
    "        \n",
    "# Split train data into train and validation sets\n",
    "mnist_train_data_uint8 = mnist_full_train_data_uint8[:50000]\n",
    "mnist_train_labels_int64 = mnist_full_train_labels_int64[:50000]\n",
    "mnist_valid_data_uint8 = mnist_full_train_data_uint8[50000:]\n",
    "mnist_valid_labels_int64 = mnist_full_train_labels_int64[50000:]"
   ]
  },
  {
   "cell_type": "code",
   "execution_count": 81,
   "metadata": {
    "colab": {
     "base_uri": "https://localhost:8080/",
     "height": 268
    },
    "colab_type": "code",
    "id": "aenFc3L633_4",
    "outputId": "b9427a03-c8b4-4e52-b8b1-72357c9c1a9b"
   },
   "outputs": [
    {
     "data": {
      "image/png": "[encoded data removed]",
      "text/plain": [
       "<Figure size 432x288 with 1 Axes>"
      ]
     },
     "metadata": {},
     "output_type": "display_data"
    }
   ],
   "source": [
    "plot_mat(mnist_train_data_uint8[:20, None], cmap='gray')"
   ]
  },
  {
   "cell_type": "code",
   "execution_count": 82,
   "metadata": {
    "colab": {},
    "colab_type": "code",
    "id": "Wwii9AQN33_8"
   },
   "outputs": [],
   "source": [
    "with np.load('cifar.npz') as data:\n",
    "    cifar_full_train_data_uint8 = data['train_data']\n",
    "    cifar_full_train_labels_int64 = data['train_labels']\n",
    "    cifar_test_data_uint8 = data['test_data']\n",
    "    cifar_test_labels_int64 = data['test_labels']\n",
    "    # Split train data into train and validation sets\n",
    "cifar_train_data_uint8 = cifar_full_train_data_uint8[:40000]\n",
    "cifar_train_labels_int64 = cifar_full_train_labels_int64[:40000]\n",
    "cifar_valid_data_uint8 = cifar_full_train_data_uint8[40000:]\n",
    "cifar_valid_labels_int64 = cifar_full_train_labels_int64[40000:]"
   ]
  },
  {
   "cell_type": "code",
   "execution_count": 106,
   "metadata": {
    "colab": {
     "base_uri": "https://localhost:8080/",
     "height": 268
    },
    "colab_type": "code",
    "id": "Jut2P5Rj34AD",
    "outputId": "75dded6f-9beb-42ab-a780-81fd76036949"
   },
   "outputs": [
    {
     "data": {
      "image/png": "[encoded data removed]",
      "text/plain": [
       "<Figure size 432x288 with 1 Axes>"
      ]
     },
     "metadata": {},
     "output_type": "display_data"
    }
   ],
   "source": [
    "#plot_mat(cifar_train_data_uint8[20: 40, None], cmap='gray')\n",
    "#print(cifar_train_data_uint8.shape, cifar_train_data_uint8[1].shape)\n",
    "\n",
    "examples = []\n",
    "mnist_count = {}\n",
    "for i in range(len(mnist_train_data_uint8)) : \n",
    "    if(len(examples)>=20) : \n",
    "        break\n",
    "    if not ( mnist_count.get(mnist_train_labels_int64[i])) : \n",
    "        mnist_count[mnist_train_labels_int64[i]] = True\n",
    "        examples = examples + [mnist_train_data_uint8[i]]\n",
    "    \n",
    "        \n",
    "plot_mat(np.array(examples)[: 10, None], cmap = 'gray')"
   ]
  },
  {
   "cell_type": "code",
   "execution_count": 127,
   "metadata": {
    "scrolled": true
   },
   "outputs": [
    {
     "name": "stdout",
     "output_type": "stream",
     "text": [
      "(40000, 32, 32, 3) [6 9 9 4 1 1 2 7 8 3]\n"
     ]
    },
    {
     "data": {
      "image/png": "[encoded data removed]",
      "text/plain": [
       "<Figure size 432x288 with 10 Axes>"
      ]
     },
     "metadata": {},
     "output_type": "display_data"
    }
   ],
   "source": [
    "examples_cifar = []\n",
    "cifar_count = {}\n",
    "examples = 0\n",
    "print(cifar_train_data_uint8.shape, cifar_train_labels_int64[:10])\n",
    "for i in range(len(cifar_train_data_uint8)) : \n",
    "    if(examples>=10) : \n",
    "        break\n",
    "    if not ( cifar_count.get(cifar_train_labels_int64[i])) : \n",
    "        cifar_count[cifar_train_labels_int64[i]] = True\n",
    "        examples +=1\n",
    "        plt.subplot(2, 5, examples)\n",
    "        plt.axis(\"off\")\n",
    "        plt.imshow(cifar_train_data_uint8[i])"
   ]
  },
  {
   "cell_type": "code",
   "execution_count": 121,
   "metadata": {
    "colab": {},
    "colab_type": "code",
    "id": "-cREkeVz34AH"
   },
   "outputs": [],
   "source": [
    "from scipy.stats import mode\n",
    "#_Y to label\n",
    "\n",
    "def KNN(train_X, train_Y, test_X, test_Y, ks, batch_size=200):\n",
    "    \"\"\"\n",
    "    Compute error rate for various \n",
    "    \"\"\"\n",
    "    errs = np.zeros((len(ks),))\n",
    "    toVec = lambda a : [x.flatten() for x in a]\n",
    "    train_data = np.array(toVec(train_X), float)\n",
    "    train_label = toVec(train_X)\n",
    "    train_square = np.array([np.dot(t, t) for t in train_data], float)\n",
    "    \n",
    "    for i in range(0, test_Y.shape[0], batch_size):\n",
    "        batch_X = test_X[i:i + batch_size]\n",
    "        batch_Y = test_Y[i:i + batch_size]\n",
    "        print(\"Examples %d:%d Computing distances... \" %\n",
    "              (i, i + batch_size), end='')\n",
    "\n",
    "        test_data = np.array(toVec(batch_X), float)\n",
    "        test_square = np.array([np.dot(t, t) for t in test_data], float)\n",
    "  \n",
    "\n",
    "        dists = np.absolute(test_square + np.array([train_square]).T - 2*np.matmul(train_data, test_data.T))\n",
    "\n",
    "        print(\"Sorting... \", end='')\n",
    "        closest = np.argsort(dists, axis = 0)\n",
    "\n",
    "        print(\"Computing errors...\")\n",
    "        targets = train_Y[closest]\n",
    "\n",
    "        for ki, k in enumerate(ks):\n",
    "            predictions, unused_counts = mode(targets[:k, :], axis=0)\n",
    "            predictions = predictions.ravel()\n",
    "            count = 0\n",
    "            '''for i in range(len(predictions)):\n",
    "                if(predictions[i]!= batch_Y[i]):\n",
    "                    print (predictions[i],batch_Y[i])'''\n",
    "            errs[ki] += np.count_nonzero(predictions!= batch_Y)\n",
    "    \n",
    "\n",
    "    errs /= test_Y.shape\n",
    "    #print(errs)\n",
    "    return np.vstack((ks, errs))"
   ]
  },
  {
   "cell_type": "code",
   "execution_count": null,
   "metadata": {
    "colab": {
     "base_uri": "https://localhost:8080/",
     "height": 35
    },
    "colab_type": "code",
    "id": "FTuX5ql334AO",
    "outputId": "d965c017-6217-4980-89cf-cc3f2eeb4ee2",
    "scrolled": true
   },
   "outputs": [],
   "source": [
    "# Now find the best k on the validation set\n",
    "\n",
    "mnist_validation_errs = KNN(\n",
    "    mnist_train_data_uint8, mnist_train_labels_int64,\n",
    "    mnist_valid_data_uint8, mnist_valid_labels_int64,\n",
    "    [1, 3, 5, 7, 9])\n",
    "\n"
   ]
  },
  {
   "cell_type": "code",
   "execution_count": 36,
   "metadata": {},
   "outputs": [
    {
     "data": {
      "text/plain": [
       "[<matplotlib.lines.Line2D at 0x7f971c1bf6a0>]"
      ]
     },
     "execution_count": 36,
     "metadata": {},
     "output_type": "execute_result"
    },
    {
     "data": {
      "image/png": "[encoded data removed]",
      "text/plain": [
       "<Figure size 432x288 with 1 Axes>"
      ]
     },
     "metadata": {},
     "output_type": "display_data"
    }
   ],
   "source": [
    "plt.plot(mnist_validation_errs[0, :], mnist_validation_errs[1, :])"
   ]
  },
  {
   "cell_type": "code",
   "execution_count": 38,
   "metadata": {
    "colab": {
     "base_uri": "https://localhost:8080/",
     "height": 247
    },
    "colab_type": "code",
    "id": "l5j4eGVN34AR",
    "outputId": "d73326d3-4010-4abd-ce3c-bca19f54046d",
    "scrolled": true
   },
   "outputs": [
    {
     "name": "stdout",
     "output_type": "stream",
     "text": [
      "Examples 0:200 Computing distances... Sorting... Computing errors...\n",
      "Examples 200:400 Computing distances... Sorting... Computing errors...\n",
      "Examples 400:600 Computing distances... Sorting... Computing errors...\n",
      "Examples 600:800 Computing distances... Sorting... Computing errors...\n",
      "Examples 800:1000 Computing distances... Sorting... Computing errors...\n",
      "Examples 1000:1200 Computing distances... Sorting... Computing errors...\n",
      "Examples 1200:1400 Computing distances... Sorting... Computing errors...\n",
      "Examples 1400:1600 Computing distances... Sorting... Computing errors...\n",
      "Examples 1600:1800 Computing distances... Sorting... Computing errors...\n",
      "Examples 1800:2000 Computing distances... Sorting... Computing errors...\n",
      "Examples 2000:2200 Computing distances... Sorting... Computing errors...\n",
      "Examples 2200:2400 Computing distances... Sorting... Computing errors...\n",
      "Examples 2400:2600 Computing distances... Sorting... Computing errors...\n",
      "Examples 2600:2800 Computing distances... Sorting... Computing errors...\n",
      "Examples 2800:3000 Computing distances... Sorting... Computing errors...\n",
      "Examples 3000:3200 Computing distances... Sorting... Computing errors...\n",
      "Examples 3200:3400 Computing distances... Sorting... Computing errors...\n",
      "Examples 3400:3600 Computing distances... Sorting... Computing errors...\n",
      "Examples 3600:3800 Computing distances... Sorting... Computing errors...\n",
      "Examples 3800:4000 Computing distances... Sorting... Computing errors...\n",
      "Examples 4000:4200 Computing distances... Sorting... Computing errors...\n",
      "Examples 4200:4400 Computing distances... Sorting... Computing errors...\n",
      "Examples 4400:4600 Computing distances... Sorting... Computing errors...\n",
      "Examples 4600:4800 Computing distances... Sorting... Computing errors...\n",
      "Examples 4800:5000 Computing distances... Sorting... Computing errors...\n",
      "Examples 5000:5200 Computing distances... Sorting... Computing errors...\n",
      "Examples 5200:5400 Computing distances... Sorting... Computing errors...\n",
      "Examples 5400:5600 Computing distances... Sorting... Computing errors...\n",
      "Examples 5600:5800 Computing distances... Sorting... Computing errors...\n",
      "Examples 5800:6000 Computing distances... Sorting... Computing errors...\n",
      "Examples 6000:6200 Computing distances... Sorting... Computing errors...\n",
      "Examples 6200:6400 Computing distances... Sorting... Computing errors...\n",
      "Examples 6400:6600 Computing distances... Sorting... Computing errors...\n",
      "Examples 6600:6800 Computing distances... Sorting... Computing errors...\n",
      "Examples 6800:7000 Computing distances... Sorting... Computing errors...\n",
      "Examples 7000:7200 Computing distances... Sorting... Computing errors...\n",
      "Examples 7200:7400 Computing distances... Sorting... Computing errors...\n",
      "Examples 7400:7600 Computing distances... Sorting... Computing errors...\n",
      "Examples 7600:7800 Computing distances... Sorting... Computing errors...\n",
      "Examples 7800:8000 Computing distances... Sorting... Computing errors...\n",
      "Examples 8000:8200 Computing distances... Sorting... Computing errors...\n",
      "Examples 8200:8400 Computing distances... Sorting... Computing errors...\n",
      "Examples 8400:8600 Computing distances... Sorting... Computing errors...\n",
      "Examples 8600:8800 Computing distances... Sorting... Computing errors...\n",
      "Examples 8800:9000 Computing distances... Sorting... Computing errors...\n",
      "Examples 9000:9200 Computing distances... Sorting... Computing errors...\n",
      "Examples 9200:9400 Computing distances... Sorting... Computing errors...\n",
      "Examples 9400:9600 Computing distances... Sorting... Computing errors...\n",
      "Examples 9600:9800 Computing distances... Sorting... Computing errors...\n",
      "Examples 9800:10000 Computing distances... Sorting... Computing errors...\n",
      "When k=6 the test error rate is 3.2%\n"
     ]
    }
   ],
   "source": [
    "# Now use the best k to compute the test error\n",
    "\n",
    "best_K = np.argmin(mnist_validation_errs)\n",
    "\n",
    "#mnist_full_train_data_uint8 = mnist_train_dataset.train_data.numpy()\n",
    "#mnist_full_train_labels_int64 = mnist_train_dataset.train_labels.numpy()\n",
    "\n",
    "mnist_test_errs = KNN(mnist_full_train_data_uint8, \n",
    "                      mnist_full_train_labels_int64,\n",
    "                      mnist_test_data_uint8, \n",
    "                      mnist_test_labels_int64, [best_K])\n",
    "print(\"When k=%d the test error rate is %.1f%%\" %\n",
    "      (mnist_test_errs[0, 0], mnist_test_errs[1, 0] * 100.0))"
   ]
  },
  {
   "cell_type": "code",
   "execution_count": 96,
   "metadata": {},
   "outputs": [
    {
     "name": "stdout",
     "output_type": "stream",
     "text": [
      "Examples 0:200 Computing distances... Sorting... Computing errors...\n",
      "Examples 200:400 Computing distances... Sorting... Computing errors...\n",
      "Examples 400:600 Computing distances... Sorting... Computing errors...\n",
      "Examples 600:800 Computing distances... Sorting... Computing errors...\n",
      "Examples 800:1000 Computing distances... Sorting... Computing errors...\n",
      "Examples 1000:1200 Computing distances... Sorting... Computing errors...\n",
      "Examples 1200:1400 Computing distances... Sorting... Computing errors...\n",
      "Examples 1400:1600 Computing distances... Sorting... Computing errors...\n",
      "Examples 1600:1800 Computing distances... Sorting... Computing errors...\n",
      "Examples 1800:2000 Computing distances... Sorting... Computing errors...\n",
      "Examples 2000:2200 Computing distances... Sorting... Computing errors...\n",
      "Examples 2200:2400 Computing distances... Sorting... Computing errors...\n",
      "Examples 2400:2600 Computing distances... Sorting... Computing errors...\n",
      "Examples 2600:2800 Computing distances... Sorting... Computing errors...\n",
      "Examples 2800:3000 Computing distances... Sorting... Computing errors...\n",
      "Examples 3000:3200 Computing distances... Sorting... Computing errors...\n",
      "Examples 3200:3400 Computing distances... Sorting... Computing errors...\n",
      "Examples 3400:3600 Computing distances... Sorting... Computing errors...\n",
      "Examples 3600:3800 Computing distances... Sorting... Computing errors...\n",
      "Examples 3800:4000 Computing distances... Sorting... Computing errors...\n",
      "Examples 4000:4200 Computing distances... Sorting... Computing errors...\n",
      "Examples 4200:4400 Computing distances... Sorting... Computing errors...\n",
      "Examples 4400:4600 Computing distances... Sorting... Computing errors...\n",
      "Examples 4600:4800 Computing distances... Sorting... Computing errors...\n",
      "Examples 4800:5000 Computing distances... Sorting... Computing errors...\n",
      "Examples 5000:5200 Computing distances... Sorting... Computing errors...\n",
      "Examples 5200:5400 Computing distances... Sorting... Computing errors...\n",
      "Examples 5400:5600 Computing distances... Sorting... Computing errors...\n",
      "Examples 5600:5800 Computing distances... Sorting... Computing errors...\n",
      "Examples 5800:6000 Computing distances... Sorting... Computing errors...\n",
      "Examples 6000:6200 Computing distances... Sorting... Computing errors...\n",
      "Examples 6200:6400 Computing distances... Sorting... Computing errors...\n",
      "Examples 6400:6600 Computing distances... Sorting... Computing errors...\n",
      "Examples 6600:6800 Computing distances... Sorting... Computing errors...\n",
      "Examples 6800:7000 Computing distances... Sorting... Computing errors...\n",
      "Examples 7000:7200 Computing distances... Sorting... Computing errors...\n",
      "Examples 7200:7400 Computing distances... Sorting... Computing errors...\n",
      "Examples 7400:7600 Computing distances... Sorting... Computing errors...\n",
      "Examples 7600:7800 Computing distances... Sorting... Computing errors...\n",
      "Examples 7800:8000 Computing distances... Sorting... Computing errors...\n",
      "Examples 8000:8200 Computing distances... Sorting... Computing errors...\n",
      "Examples 8200:8400 Computing distances... Sorting... Computing errors...\n",
      "Examples 8400:8600 Computing distances... Sorting... Computing errors...\n",
      "Examples 8600:8800 Computing distances... Sorting... Computing errors...\n",
      "Examples 8800:9000 Computing distances... Sorting... Computing errors...\n",
      "Examples 9000:9200 Computing distances... Sorting... Computing errors...\n",
      "Examples 9200:9400 Computing distances... Sorting... Computing errors...\n",
      "Examples 9400:9600 Computing distances... Sorting... Computing errors...\n",
      "Examples 9600:9800 Computing distances... Sorting... Computing errors...\n",
      "Examples 9800:10000 Computing distances... Sorting... Computing errors...\n"
     ]
    }
   ],
   "source": [
    "#\n",
    "# Now repeat the k-NN training for CIFAR10\n",
    "#\n",
    "cifar_validation_errs = KNN(\n",
    "    cifar_train_data_uint8, cifar_train_labels_int64,\n",
    "    cifar_valid_data_uint8, cifar_valid_labels_int64,\n",
    "    [1, 3, 5, 7, 9])\n"
   ]
  },
  {
   "cell_type": "code",
   "execution_count": 97,
   "metadata": {
    "scrolled": true
   },
   "outputs": [
    {
     "data": {
      "text/plain": [
       "[<matplotlib.lines.Line2D at 0x7f975c60a320>]"
      ]
     },
     "execution_count": 97,
     "metadata": {},
     "output_type": "execute_result"
    },
    {
     "data": {
      "image/png": "[encoded data removed]",
      "text/plain": [
       "<Figure size 432x288 with 1 Axes>"
      ]
     },
     "metadata": {},
     "output_type": "display_data"
    }
   ],
   "source": [
    "plt.plot(cifar_validation_errs[0, :], cifar_validation_errs[1, :])"
   ]
  },
  {
   "cell_type": "code",
   "execution_count": 98,
   "metadata": {
    "colab": {},
    "colab_type": "code",
    "id": "g88neUhM34AU"
   },
   "outputs": [
    {
     "name": "stdout",
     "output_type": "stream",
     "text": [
      "Examples 0:200 Computing distances... Sorting... Computing errors...\n",
      "Examples 200:400 Computing distances... Sorting... Computing errors...\n",
      "Examples 400:600 Computing distances... Sorting... Computing errors...\n",
      "Examples 600:800 Computing distances... Sorting... Computing errors...\n",
      "Examples 800:1000 Computing distances... Sorting... Computing errors...\n",
      "Examples 1000:1200 Computing distances... Sorting... Computing errors...\n",
      "Examples 1200:1400 Computing distances... Sorting... Computing errors...\n",
      "Examples 1400:1600 Computing distances... Sorting... Computing errors...\n",
      "Examples 1600:1800 Computing distances... Sorting... Computing errors...\n",
      "Examples 1800:2000 Computing distances... Sorting... Computing errors...\n",
      "Examples 2000:2200 Computing distances... Sorting... Computing errors...\n",
      "Examples 2200:2400 Computing distances... Sorting... Computing errors...\n",
      "Examples 2400:2600 Computing distances... Sorting... Computing errors...\n",
      "Examples 2600:2800 Computing distances... Sorting... Computing errors...\n",
      "Examples 2800:3000 Computing distances... Sorting... Computing errors...\n",
      "Examples 3000:3200 Computing distances... Sorting... Computing errors...\n",
      "Examples 3200:3400 Computing distances... Sorting... Computing errors...\n",
      "Examples 3400:3600 Computing distances... Sorting... Computing errors...\n",
      "Examples 3600:3800 Computing distances... Sorting... Computing errors...\n",
      "Examples 3800:4000 Computing distances... Sorting... Computing errors...\n",
      "Examples 4000:4200 Computing distances... Sorting... Computing errors...\n",
      "Examples 4200:4400 Computing distances... Sorting... Computing errors...\n",
      "Examples 4400:4600 Computing distances... Sorting... Computing errors...\n",
      "Examples 4600:4800 Computing distances... Sorting... Computing errors...\n",
      "Examples 4800:5000 Computing distances... Sorting... Computing errors...\n",
      "Examples 5000:5200 Computing distances... Sorting... Computing errors...\n",
      "Examples 5200:5400 Computing distances... Sorting... Computing errors...\n",
      "Examples 5400:5600 Computing distances... Sorting... Computing errors...\n",
      "Examples 5600:5800 Computing distances... Sorting... Computing errors...\n",
      "Examples 5800:6000 Computing distances... Sorting... Computing errors...\n",
      "Examples 6000:6200 Computing distances... Sorting... Computing errors...\n",
      "Examples 6200:6400 Computing distances... Sorting... Computing errors...\n",
      "Examples 6400:6600 Computing distances... Sorting... Computing errors...\n",
      "Examples 6600:6800 Computing distances... Sorting... Computing errors...\n",
      "Examples 6800:7000 Computing distances... Sorting... Computing errors...\n",
      "Examples 7000:7200 Computing distances... Sorting... Computing errors...\n",
      "Examples 7200:7400 Computing distances... Sorting... Computing errors...\n",
      "Examples 7400:7600 Computing distances... Sorting... Computing errors...\n",
      "Examples 7600:7800 Computing distances... Sorting... Computing errors...\n",
      "Examples 7800:8000 Computing distances... Sorting... Computing errors...\n",
      "Examples 8000:8200 Computing distances... Sorting... Computing errors...\n",
      "Examples 8200:8400 Computing distances... Sorting... Computing errors...\n",
      "Examples 8400:8600 Computing distances... Sorting... Computing errors...\n",
      "Examples 8600:8800 Computing distances... Sorting... Computing errors...\n",
      "Examples 8800:9000 Computing distances... Sorting... Computing errors...\n",
      "Examples 9000:9200 Computing distances... Sorting... Computing errors...\n",
      "Examples 9200:9400 Computing distances... Sorting... Computing errors...\n",
      "Examples 9400:9600 Computing distances... Sorting... Computing errors...\n",
      "Examples 9600:9800 Computing distances... Sorting... Computing errors...\n",
      "Examples 9800:10000 Computing distances... Sorting... Computing errors...\n",
      "When k=5 the test error rate is 66.0%\n"
     ]
    }
   ],
   "source": [
    "\n",
    "best_K = np.argmin(cifar_validation_errs)\n",
    "\n",
    "#cifar_full_train_data_uint8 = cifar_train_dataset.train_data.numpy()\n",
    "#cifar_full_train_labels_int64 = cifar_train_dataset.train_labels.numpy()\n",
    "\n",
    "cifar_test_errs = KNN(cifar_full_train_data_uint8, \n",
    "                      cifar_full_train_labels_int64,\n",
    "                      cifar_test_data_uint8, \n",
    "                      cifar_test_labels_int64, [best_K])\n",
    "print(\"When k=%d the test error rate is %.1f%%\" %\n",
    "      (cifar_test_errs[0, 0], cifar_test_errs[1, 0] * 100.0))"
   ]
  },
  {
   "cell_type": "code",
   "execution_count": 137,
   "metadata": {},
   "outputs": [
    {
     "name": "stdout",
     "output_type": "stream",
     "text": [
      "Examples 0:200 Computing distances... Sorting... Computing errors...\n"
     ]
    },
    {
     "data": {
      "image/png": "[encoded data removed]",
      "text/plain": [
       "<Figure size 1440x1440 with 20 Axes>"
      ]
     },
     "metadata": {},
     "output_type": "display_data"
    }
   ],
   "source": [
    "# plot examples\n",
    "\n",
    "def KNN2(train_X, train_Y, test_X, test_Y, k, batch_size=200):\n",
    "    \"\"\"\n",
    "    Compute error rate for various \n",
    "    \"\"\"\n",
    "    toVec = lambda a : [x.flatten() for x in a]\n",
    "    train_data = np.array(toVec(train_X), float)\n",
    "    train_label = toVec(train_X)\n",
    "    train_square = np.array([np.dot(t, t) for t in train_data], float)\n",
    "    good = []\n",
    "    bad = []\n",
    "    \n",
    "    for i in range(0, test_Y.shape[0], batch_size):\n",
    "        batch_X = test_X[i:i + batch_size]\n",
    "        batch_Y = test_Y[i:i + batch_size]\n",
    "        print(\"Examples %d:%d Computing distances... \" %\n",
    "              (i, i + batch_size), end='')\n",
    "\n",
    "        test_data = np.array(toVec(batch_X), float)\n",
    "        test_square = np.array([np.dot(t, t) for t in test_data], float)\n",
    "  \n",
    "\n",
    "        dists = np.absolute(test_square + np.array([train_square]).T - 2*np.matmul(train_data, test_data.T))\n",
    "\n",
    "        print(\"Sorting... \", end='')\n",
    "        closest = np.argsort(dists, axis = 0)\n",
    "\n",
    "        print(\"Computing errors...\")\n",
    "        targets = train_Y[closest]\n",
    "\n",
    "        predictions, unused_counts = mode(targets[:k, :], axis=0)\n",
    "        predictions = predictions.ravel()\n",
    "        count = 0\n",
    "        for i in range(len(predictions)):\n",
    "            if(predictions[i]!= batch_Y[i] and len(bad) < 10):\n",
    "                bad = bad + [batch_X[i].reshape((32, 32, 3))]\n",
    "            \n",
    "            elif(len(good) < 10):\n",
    "                good = good + [batch_X[i].reshape((32, 32, 3))]\n",
    "\n",
    "            if(len(good) >=10 and len(bad) >=10):\n",
    "                return good, bad\n",
    "    #print(errs)\n",
    "    return good, bad\n",
    "\n",
    "good, bad = KNN2(\n",
    "    cifar_train_data_uint8, cifar_train_labels_int64,\n",
    "    cifar_valid_data_uint8, cifar_valid_labels_int64,\n",
    "    best_K)\n",
    "my_figure = plt.figure(figsize=(20,20))\n",
    "plt.tight_layout()\n",
    "for i in range(len (good)) : \n",
    "    plt.subplot(10, 2, 2* i + 1)\n",
    "    plt.axis(\"off\")\n",
    "    plt.imshow(good[i])\n",
    "    plt.subplot(10, 2, 2* i + 2)\n",
    "    plt.axis(\"off\")\n",
    "    plt.imshow(bad[i])"
   ]
  },
  {
   "cell_type": "markdown",
   "metadata": {
    "colab_type": "text",
    "id": "1qq8XLOt34AX"
   },
   "source": [
    "### Locality sensitive hashing\n",
    "\n",
    "Problem 5 was about speeding up the inference using loops implicitly present in matrix multiplication instead of explicit loops in Python. In this problem, we will explore a strategy to truly reduce the total number of computations required to find nearest neighbors without sacrificing too much accuracy.\n",
    "\n",
    "To speed up nearest neighbor search we will employ *Locality Sensitive Hashing (LSH)* functions. For a given distance metric, the locality sensitive hash should put items that are similar into the same bucket. Notice that this is essentially a design choice opposite to traditional cryptographic hash functions that should amplify the difference of similar inputs (typically we want that small perturbations of data result in large changes to the hash value).\n",
    "\n",
    "One of the simplest implementations of LSH approximates the cosine distance. Let $x\\in \\mathbb{R}^N$ and $y\\in \\mathbb{R}^N$ be two vectors. Their cosine distance is defined as:\n",
    "\n",
    "\\begin{equation}\n",
    "    d_\\text{cos}(x,y) = \\frac{x \\cdot y}{\\|x\\| \\|y\\|} = \\cos\\left(\\theta(x,y)\\right),\n",
    "\\end{equation}\n",
    "where $\\theta(x,y)$ is the unsigned angle between $x$ and $y$.\n",
    "\n",
    "We will construct a family $H$ of hash functions that are an LSH for angle distances (an approximation to cosine distance). Assume $p\\in \\mathbb{R}^N$ is a random vector (components are sampled from the normal distribution) of length 1. Then define the hash function $h(x) = \\text{sgn}(x\\cdot p)$, where $\\text{sgn()}$ is the sign function. It can be proven that:\n",
    "\n",
    "\\begin{equation}\n",
    "    p_{h\\in H}[h(x)=h(y)] = 1 - \\frac{\\theta(x,y)}{\\pi}.\n",
    "\\end{equation}\n",
    "\n",
    "The equation means that the probability of a hash collision grows as the the angle between two vectors gets smaller. Therefore, vectors that are close according to the cosine distance will be put with high probability into the same bin (we use the fact that for small $\\theta$ we can approximate $\\cos(\\theta) = 1 - \\theta/\\pi$.\n",
    "\n",
    "We will say that a family of randomly chosen hash functions $H$ is $(d_1, d_2, p_1, p_2)$-sensitive with respect to a distance metric $d$ if for any $x$ and $y$:\n",
    "1. If $d(x,y) \\leq d_1$ then $p_{h\\in H}[h(x)=h(y)] \\geq p_1$.\n",
    "2. If $d(x,y) \\geq d_2$ then $p_{h\\in H}[h(x)=h(y)] \\leq p_2$.\n",
    "\n",
    "For example, our family of randomly chosen hyperplanes is $(d_1, d_2, (1-d_1)/\\pi, (1-d_2)/\\pi)$-sensitive.\n",
    "\n",
    "Ideally, vectors should be placed into the same bin with a high probability if their distance is smaller than a threshold, and with a low probability if their distance is larger that the threshold. By combining hashing functions we can get closer to this ideal sensitivity.\n",
    "\n",
    "Given a family of hash functions $H$ with sensitivity $(d_1, d_3, p_1, p_2)$ we can construct a new family $H'$ by combining $r$ functions from $H$:\n",
    "1. AND: let $h=[h_1, h_2, \\ldots, h_r] \\in H'$ and $h(x)=h(y)$ if and only if $\\forall_i h_i(x)=h_i(y)$. Then $H'$ is $(d_1, d_2, (p_1)^r, (p_2)^r)$-sensitive.\n",
    "2. OR: let $h=[h_1, h_2, \\ldots, h_r] \\in H'$ and $h(x)=h(y)$ if and only if $\\exists_i h_i(x)=h_i(y)$. Then $H'$ is $(d_1, d_2, 1-(1-p_1)^r, 1-(1-p_2)^r)$-sensitive.\n",
    "\n",
    "AND makes all probabilities shrink, but properly choosing $r$ we can make the lower probability approach 0 while the higher does not. Conversely, OR makes all probabilities grow, we can make the upper probability approach 1 while the lower does not."
   ]
  },
  {
   "cell_type": "markdown",
   "metadata": {
    "colab_type": "text",
    "id": "OutHmcfp8zLo"
   },
   "source": [
    "#### Problem 6 [2-4p bonus] \n",
    "\n",
    "1. **[1bp]** **Note:** you can show sketches of proofs for this assignment.\n",
    "    1. Show that angle between vectors is a metric (https://en.wikipedia.org/wiki/Metric_(mathematics)).\n",
    "    \n",
    "    2. Show that $p_{h\\in H}[h(x)=h(y)] = 1 - \\frac{\\theta(x,y)}{\\pi}$ for $h$ computed using a randomly chosen hyperplane.\n",
    "\n",
    "    3. Show the properties of either AND or OR boosting of LSH.\n",
    "\n",
    "3. **[1-3bp]** Reimplement k-Nearest Neighbors for MNIST classification using the cosine distance instead of the Euclidean distance. Choose a sensible value of $k$. Use Locality Sensitive Hashing to achieve an error rate no greater than $150\\%$ of the original error rate with at least a $90\\%$ speedup (i.e., by considering on average at most 5000 training samples per query image). For a few settings plot the speedup-vs-accuracy relation.\n",
    "\n",
    "  **Note:** points will be awarded based on ingenuity of your solution. Feel free to explore your own ideas!\n"
   ]
  }
 ],
 "metadata": {
  "colab": {
   "collapsed_sections": [],
   "name": "Copy of Assignment1.ipynb",
   "provenance": [],
   "toc_visible": true,
   "version": "0.3.2"
  },
  "kernelspec": {
   "display_name": "Python 2",
   "language": "python",
   "name": "python2"
  },
  "language_info": {
   "codemirror_mode": {
    "name": "ipython",
    "version": 3
   },
   "file_extension": ".py",
   "mimetype": "text/x-python",
   "name": "python",
   "nbconvert_exporter": "python",
   "pygments_lexer": "ipython3",
   "version": "3.5.2"
  }
 },
 "nbformat": 4,
 "nbformat_minor": 1
}
